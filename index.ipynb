{
 "cells": [
  {
   "cell_type": "code",
   "execution_count": null,
   "metadata": {},
   "outputs": [],
   "source": [
    "#hide\n",
    "from one_ai_to_rule_them_all.core import get_sentiment"
   ]
  },
  {
   "cell_type": "markdown",
   "metadata": {},
   "source": [
    "# Demo of Flask API and Docker using NBDev\n",
    "\n",
    "> Summary description here."
   ]
  },
  {
   "cell_type": "markdown",
   "metadata": {},
   "source": [
    "NBDev is a powerfull tools to make maintain clean code from Jupyter Notebooks.\n",
    "\n",
    "Flask and Flair code based on https://shekhargulati.com/2019/01/04/building-a-sentiment-analysis-python-microservice-with-flair-and-flask/"
   ]
  },
  {
   "cell_type": "markdown",
   "metadata": {},
   "source": [
    "## Install\n",
    "\n",
    "NBDev allow you to easily publish on PiPy to be able to install your lib with pip :"
   ]
  },
  {
   "cell_type": "markdown",
   "metadata": {},
   "source": [
    "`pip install one_ai_to_rule_them_all`"
   ]
  },
  {
   "cell_type": "markdown",
   "metadata": {},
   "source": [
    "## How to use"
   ]
  },
  {
   "cell_type": "markdown",
   "metadata": {},
   "source": [
    "Fill me in please! Don't forget code examples:"
   ]
  },
  {
   "cell_type": "code",
   "execution_count": null,
   "metadata": {},
   "outputs": [
    {
     "name": "stdout",
     "output_type": "stream",
     "text": [
      "2020-08-24 15:19:44,939 loading file /home/ben/.flair/models/sentiment-en-mix-distillbert.pt\n",
      "{'result': 'POSITIVE', 'polarity': 0.9958167672157288}\n"
     ]
    }
   ],
   "source": [
    "res = get_sentiment(\"I love you !\")\n",
    "print(res)\n",
    "assert res['result'] == 'POSITIVE'"
   ]
  },
  {
   "cell_type": "markdown",
   "metadata": {},
   "source": [
    "`curl --request POST \\\n",
    "  --url http://localhost:5000/api/v1/analyzeSentiment \\\n",
    "  --header 'content-type: application/json' \\\n",
    "  --data '{\n",
    "    \"message\":\"I could watch The Marriage over and over again. At 90 minutes, it'\\''s just so delightfully heartbreaking.\"\n",
    "}'`"
   ]
  },
  {
   "cell_type": "code",
   "execution_count": null,
   "metadata": {},
   "outputs": [
    {
     "name": "stdout",
     "output_type": "stream",
     "text": [
      "{\"polarity\":0.9971720576286316,\"result\":\"POSITIVE\"}\n"
     ]
    }
   ],
   "source": [
    "#slow\n",
    "!curl --request POST --url http://localhost:5000/api/v1/analyzeSentiment  --header 'content-type: application/json' --data '{\"message\":\"I could watch The Marriage over and over again. At 90 minutes, it s just so delightfully heartbreaking.\"}'"
   ]
  },
  {
   "cell_type": "code",
   "execution_count": null,
   "metadata": {},
   "outputs": [],
   "source": []
  }
 ],
 "metadata": {
  "kernelspec": {
   "display_name": "Python 3",
   "language": "python",
   "name": "python3"
  }
 },
 "nbformat": 4,
 "nbformat_minor": 4
}
