{
 "cells": [
  {
   "cell_type": "code",
   "execution_count": 28,
   "metadata": {},
   "outputs": [],
   "source": [
    "# default_exp core"
   ]
  },
  {
   "cell_type": "code",
   "execution_count": 29,
   "metadata": {},
   "outputs": [],
   "source": [
    "#hide\n",
    "# Put these at the top of every notebook, to get automatic reloading and inline plotting\n",
    "%reload_ext autoreload\n",
    "%autoreload 2\n",
    "#%matplotlib inline\n",
    "from IPython.core.interactiveshell import InteractiveShell\n",
    "InteractiveShell.ast_node_interactivity = \"all\""
   ]
  },
  {
   "cell_type": "markdown",
   "metadata": {},
   "source": [
    "# Core Module\n",
    "\n",
    "> API details."
   ]
  },
  {
   "cell_type": "code",
   "execution_count": 30,
   "metadata": {},
   "outputs": [],
   "source": [
    "#hide\n",
    "from nbdev.showdoc import *"
   ]
  },
  {
   "cell_type": "code",
   "execution_count": 31,
   "metadata": {},
   "outputs": [],
   "source": [
    "#hide\n",
    "#!pip install flair"
   ]
  },
  {
   "cell_type": "code",
   "execution_count": 32,
   "metadata": {},
   "outputs": [],
   "source": [
    "#export\n",
    "from flair.models import TextClassifier\n",
    "from flair.data import Sentence\n",
    "\n",
    "def get_sentiment(message):\n",
    "    classifier = TextClassifier.load('en-sentiment') # rely on sentiment-en-mix-distillbert.pt\n",
    "    sentence = Sentence(message)\n",
    "    classifier.predict(sentence)\n",
    "    #print('Sentence sentiment: ', sentence.labels)\n",
    "    label = sentence.labels[0]\n",
    "    return {'result': label.value, 'polarity':label.score}"
   ]
  },
  {
   "cell_type": "code",
   "execution_count": 33,
   "metadata": {},
   "outputs": [
    {
     "name": "stdout",
     "output_type": "stream",
     "text": [
      "2020-08-24 15:05:12,459 loading file /home/ben/.flair/models/sentiment-en-mix-distillbert.pt\n",
      "{'result': 'NEGATIVE', 'polarity': 0.9995291233062744}\n"
     ]
    }
   ],
   "source": [
    "res = get_sentiment(\"I hate you !\")\n",
    "print(res)\n",
    "assert res['result'] == 'NEGATIVE'"
   ]
  },
  {
   "cell_type": "code",
   "execution_count": 34,
   "metadata": {},
   "outputs": [
    {
     "name": "stdout",
     "output_type": "stream",
     "text": [
      "2020-08-24 15:05:14,013 loading file /home/ben/.flair/models/sentiment-en-mix-distillbert.pt\n",
      "{'result': 'POSITIVE', 'polarity': 0.9958167672157288}\n"
     ]
    }
   ],
   "source": [
    "res = get_sentiment(\"I love you !\")\n",
    "print(res)\n",
    "assert res['result'] == 'POSITIVE'"
   ]
  },
  {
   "cell_type": "code",
   "execution_count": 35,
   "metadata": {},
   "outputs": [
    {
     "name": "stdout",
     "output_type": "stream",
     "text": [
      "2020-08-24 15:05:15,478 loading file /home/ben/.flair/models/sentiment-en-mix-distillbert.pt\n",
      "{'result': 'POSITIVE', 'polarity': 0.6796481609344482}\n"
     ]
    }
   ],
   "source": [
    "res = get_sentiment(\"Trump is the President of the USA.\")\n",
    "print(res)\n",
    "assert res['result'] == 'POSITIVE'"
   ]
  },
  {
   "cell_type": "code",
   "execution_count": 36,
   "metadata": {},
   "outputs": [
    {
     "name": "stdout",
     "output_type": "stream",
     "text": [
      "2020-08-24 15:05:16,995 loading file /home/ben/.flair/models/sentiment-en-mix-distillbert.pt\n",
      "{'result': 'POSITIVE', 'polarity': 0.9948983788490295}\n"
     ]
    }
   ],
   "source": [
    "res = get_sentiment(\"Biden is the President of the USA.\")\n",
    "print(res)\n",
    "assert res['result'] == 'POSITIVE'"
   ]
  },
  {
   "cell_type": "code",
   "execution_count": 38,
   "metadata": {},
   "outputs": [
    {
     "name": "stdout",
     "output_type": "stream",
     "text": [
      "Converted 00_core.ipynb.\n",
      "Converted index.ipynb.\n"
     ]
    }
   ],
   "source": [
    "#hide\n",
    "from nbdev.export import notebook2script\n",
    "notebook2script()"
   ]
  }
 ],
 "metadata": {
  "kernelspec": {
   "display_name": "Python 3",
   "language": "python",
   "name": "python3"
  },
  "language_info": {
   "codemirror_mode": {
    "name": "ipython",
    "version": 3
   },
   "file_extension": ".py",
   "mimetype": "text/x-python",
   "name": "python",
   "nbconvert_exporter": "python",
   "pygments_lexer": "ipython3",
   "version": "3.7.6"
  }
 },
 "nbformat": 4,
 "nbformat_minor": 4
}
